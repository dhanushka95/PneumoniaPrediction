{
 "cells": [
  {
   "cell_type": "code",
   "execution_count": 37,
   "metadata": {},
   "outputs": [
    {
     "name": "stdout",
     "output_type": "stream",
     "text": [
      " * Serving Flask app \"__main__\" (lazy loading)\n",
      " * Environment: production\n",
      "   WARNING: This is a development server. Do not use it in a production deployment.\n",
      "   Use a production WSGI server instead.\n",
      " * Debug mode: off\n"
     ]
    },
    {
     "name": "stderr",
     "output_type": "stream",
     "text": [
      " * Running on http://127.0.0.1:5000/ (Press CTRL+C to quit)\n",
      "INFO:werkzeug: * Running on http://127.0.0.1:5000/ (Press CTRL+C to quit)\n",
      "127.0.0.1 - - [13/Nov/2020 15:52:52] \"\u001b[37mPOST /predict HTTP/1.1\u001b[0m\" 200 -\n",
      "INFO:werkzeug:127.0.0.1 - - [13/Nov/2020 15:52:52] \"\u001b[37mPOST /predict HTTP/1.1\u001b[0m\" 200 -\n"
     ]
    }
   ],
   "source": [
    "import numpy\n",
    "from flask import Flask\n",
    "from flask import request\n",
    "from keras.layers import Dense\n",
    "from keras.models import Sequential\n",
    "from keras.layers import Convolution2D\n",
    "from keras.layers import MaxPooling2D\n",
    "from keras.layers import Flatten\n",
    "from tensorflow.python.keras.backend import set_session\n",
    "from keras.models import load_model\n",
    "from keras.wrappers.scikit_learn import KerasClassifier\n",
    "import matplotlib.pyplot as plt\n",
    "import matplotlib.image as mpimg\n",
    "import tensorflow\n",
    "\n",
    "app = Flask(__name__)\n",
    "\n",
    "global graph\n",
    "graph = tensorflow.get_default_graph()\n",
    "sess = tensorflow.Session()\n",
    "\n",
    "def larger_model():\n",
    "        model = Sequential()\n",
    "        model.add(Convolution2D(32,(3,3),input_shape=(64,64,3),activation = 'relu'))\n",
    "        model.add(MaxPooling2D((2,2)))\n",
    "        model.add(Flatten())\n",
    "        model.add(Dense(units=128,activation='relu'))\n",
    "        model.add(Dense(units=1, activation='sigmoid'))                \n",
    "        model.compile(optimizer = 'adam',loss='binary_crossentropy',metrics=['accuracy'])\n",
    "        return model\n",
    "\n",
    "#load model\n",
    "classifire = larger_model()  \n",
    "set_session(sess)\n",
    "classifire.load_weights('saved_model.h5')  \n",
    "\n",
    "@app.route(\"/predict\",methods =['POST'])\n",
    "def predictions(): \n",
    "    #preProcess the image \n",
    "    image = tensorflow.keras.preprocessing.image.load_img('data_set/test/PNEUMONIA/person1_virus_7.jpeg',target_size=(64,64))\n",
    "    input_arr = tensorflow.keras.preprocessing.image.img_to_array(image)\n",
    "    input_arr = numpy.array([input_arr])  # Convert single image to a batch.\n",
    "    with graph.as_default():\n",
    "                 set_session(sess)                 \n",
    "                 prediction = classifire.predict(input_arr)[0]    \n",
    "                 responseValue= \"Server Error...\"\n",
    "    if prediction == 1:\n",
    "                responseValue = \"Pneumonia\"\n",
    "    elif prediction == 0:\n",
    "                responseValue = \"Normal\"\n",
    "        \n",
    "    return str(\"prediction\"+\": \"+responseValue)\n",
    "\n",
    "if __name__ == '__main__':\n",
    "    app.run(debug=False, port=5000)"
   ]
  },
  {
   "cell_type": "code",
   "execution_count": null,
   "metadata": {},
   "outputs": [],
   "source": []
  },
  {
   "cell_type": "code",
   "execution_count": null,
   "metadata": {},
   "outputs": [],
   "source": []
  },
  {
   "cell_type": "code",
   "execution_count": null,
   "metadata": {},
   "outputs": [],
   "source": []
  }
 ],
 "metadata": {
  "kernelspec": {
   "display_name": "Python 3",
   "language": "python",
   "name": "python3"
  },
  "language_info": {
   "codemirror_mode": {
    "name": "ipython",
    "version": 3
   },
   "file_extension": ".py",
   "mimetype": "text/x-python",
   "name": "python",
   "nbconvert_exporter": "python",
   "pygments_lexer": "ipython3",
   "version": "3.7.1"
  }
 },
 "nbformat": 4,
 "nbformat_minor": 4
}
