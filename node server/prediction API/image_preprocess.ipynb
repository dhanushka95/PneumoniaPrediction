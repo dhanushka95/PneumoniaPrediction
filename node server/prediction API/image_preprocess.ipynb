{
 "cells": [
  {
   "cell_type": "code",
   "execution_count": 1,
   "metadata": {},
   "outputs": [],
   "source": [
    "import cv2\n",
    "import numpy as np\n",
    "from os  import listdir\n"
   ]
  },
  {
   "cell_type": "code",
   "execution_count": 5,
   "metadata": {},
   "outputs": [],
   "source": [
    "loaded_images = list()"
   ]
  },
  {
   "cell_type": "code",
   "execution_count": 8,
   "metadata": {},
   "outputs": [],
   "source": [
    "count = 1\n",
    "for filename in listdir('data_set/train/NORMAL'):\n",
    "        count += 1\n",
    "        img = cv2.imread('data_set/train/NORMAL/' + filename)\n",
    "        gray = cv2.cvtColor(img, cv2.COLOR_BGR2GRAY)\n",
    "        # threshold input image using otsu thresholding as mask and refine with morphology\n",
    "        ret, mask = cv2.threshold(gray, 0, 255, cv2.THRESH_BINARY+cv2.THRESH_OTSU) \n",
    "        kernel = np.ones((9,9), np.uint8)\n",
    "        mask = cv2.morphologyEx(mask, cv2.MORPH_CLOSE, kernel)\n",
    "        mask = cv2.morphologyEx(mask, cv2.MORPH_OPEN, kernel)\n",
    "        # put mask into alpha channel of image\n",
    "        result = img.copy()\n",
    "        result = cv2.cvtColor(result, cv2.COLOR_BGR2BGRA)\n",
    "        result[:, :, 3] = mask\n",
    "        # save resulting masked image\n",
    "        cv2.imwrite('data_set/Preprocess/train/NORMAL/' + str(count)+'.png', result)"
   ]
  },
  {
   "cell_type": "code",
   "execution_count": 9,
   "metadata": {},
   "outputs": [],
   "source": [
    "count = 1\n",
    "for filename in listdir('data_set/train/PNEUMONIA'):\n",
    "        count += 1\n",
    "        img = cv2.imread('data_set/train/PNEUMONIA/' + filename)\n",
    "        gray = cv2.cvtColor(img, cv2.COLOR_BGR2GRAY)\n",
    "        # threshold input image using otsu thresholding as mask and refine with morphology\n",
    "        ret, mask = cv2.threshold(gray, 0, 255, cv2.THRESH_BINARY+cv2.THRESH_OTSU) \n",
    "        kernel = np.ones((9,9), np.uint8)\n",
    "        mask = cv2.morphologyEx(mask, cv2.MORPH_CLOSE, kernel)\n",
    "        mask = cv2.morphologyEx(mask, cv2.MORPH_OPEN, kernel)\n",
    "        # put mask into alpha channel of image\n",
    "        result = img.copy()\n",
    "        result = cv2.cvtColor(result, cv2.COLOR_BGR2BGRA)\n",
    "        result[:, :, 3] = mask\n",
    "        # save resulting masked image\n",
    "        cv2.imwrite('data_set/Preprocess/train/PNEUMONIA/'  + str(count)+'.png', result)"
   ]
  },
  {
   "cell_type": "code",
   "execution_count": 10,
   "metadata": {},
   "outputs": [],
   "source": [
    "count = 1\n",
    "for filename in listdir('data_set/test/NORMAL'):\n",
    "        count += 1\n",
    "        img = cv2.imread('data_set/test/NORMAL/' + filename)\n",
    "        gray = cv2.cvtColor(img, cv2.COLOR_BGR2GRAY)\n",
    "        # threshold input image using otsu thresholding as mask and refine with morphology\n",
    "        ret, mask = cv2.threshold(gray, 0, 255, cv2.THRESH_BINARY+cv2.THRESH_OTSU) \n",
    "        kernel = np.ones((9,9), np.uint8)\n",
    "        mask = cv2.morphologyEx(mask, cv2.MORPH_CLOSE, kernel)\n",
    "        mask = cv2.morphologyEx(mask, cv2.MORPH_OPEN, kernel)\n",
    "        # put mask into alpha channel of image\n",
    "        result = img.copy()\n",
    "        result = cv2.cvtColor(result, cv2.COLOR_BGR2BGRA)\n",
    "        result[:, :, 3] = mask\n",
    "        # save resulting masked image\n",
    "        cv2.imwrite('data_set/Preprocess/test/NORMAL/' + str(count)+'.png', result)"
   ]
  },
  {
   "cell_type": "code",
   "execution_count": 11,
   "metadata": {},
   "outputs": [],
   "source": [
    "count = 1\n",
    "for filename in listdir('data_set/test/PNEUMONIA'):\n",
    "        count += 1\n",
    "        img = cv2.imread('data_set/test/PNEUMONIA/' + filename)\n",
    "        gray = cv2.cvtColor(img, cv2.COLOR_BGR2GRAY)\n",
    "        # threshold input image using otsu thresholding as mask and refine with morphology\n",
    "        ret, mask = cv2.threshold(gray, 0, 255, cv2.THRESH_BINARY+cv2.THRESH_OTSU) \n",
    "        kernel = np.ones((9,9), np.uint8)\n",
    "        mask = cv2.morphologyEx(mask, cv2.MORPH_CLOSE, kernel)\n",
    "        mask = cv2.morphologyEx(mask, cv2.MORPH_OPEN, kernel)\n",
    "        # put mask into alpha channel of image\n",
    "        result = img.copy()\n",
    "        result = cv2.cvtColor(result, cv2.COLOR_BGR2BGRA)\n",
    "        result[:, :, 3] = mask\n",
    "        # save resulting masked image\n",
    "        cv2.imwrite('data_set/Preprocess/test/PNEUMONIA/' + str(count)+'.png', result)"
   ]
  },
  {
   "cell_type": "code",
   "execution_count": null,
   "metadata": {},
   "outputs": [],
   "source": []
  }
 ],
 "metadata": {
  "kernelspec": {
   "display_name": "Python 3",
   "language": "python",
   "name": "python3"
  },
  "language_info": {
   "codemirror_mode": {
    "name": "ipython",
    "version": 3
   },
   "file_extension": ".py",
   "mimetype": "text/x-python",
   "name": "python",
   "nbconvert_exporter": "python",
   "pygments_lexer": "ipython3",
   "version": "3.7.1"
  }
 },
 "nbformat": 4,
 "nbformat_minor": 4
}
