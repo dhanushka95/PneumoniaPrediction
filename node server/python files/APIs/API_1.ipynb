{
 "cells": [
  {
   "cell_type": "code",
   "execution_count": 2,
   "metadata": {},
   "outputs": [
    {
     "name": "stdout",
     "output_type": "stream",
     "text": [
      " * Serving Flask app \"__main__\" (lazy loading)\n",
      " * Environment: production\n",
      "   WARNING: This is a development server. Do not use it in a production deployment.\n",
      "   Use a production WSGI server instead.\n",
      " * Debug mode: off\n"
     ]
    },
    {
     "name": "stderr",
     "output_type": "stream",
     "text": [
      " * Running on http://127.0.0.1:5001/ (Press CTRL+C to quit)\n"
     ]
    },
    {
     "name": "stdout",
     "output_type": "stream",
     "text": [
      "WARNING:tensorflow:From C:\\ProgramData\\Anaconda3\\envs\\deepkeras\\lib\\site-packages\\keras\\backend\\tensorflow_backend.py:422: The name tf.global_variables is deprecated. Please use tf.compat.v1.global_variables instead.\n",
      "\n"
     ]
    },
    {
     "name": "stderr",
     "output_type": "stream",
     "text": [
      "127.0.0.1 - - [06/Dec/2020 22:07:09] \"\u001b[37mPOST /predict HTTP/1.1\u001b[0m\" 200 -\n",
      "127.0.0.1 - - [06/Dec/2020 22:07:27] \"\u001b[37mPOST /predict HTTP/1.1\u001b[0m\" 200 -\n",
      "127.0.0.1 - - [06/Dec/2020 22:08:05] \"\u001b[37mPOST /predict HTTP/1.1\u001b[0m\" 200 -\n",
      "127.0.0.1 - - [06/Dec/2020 22:08:09] \"\u001b[37mPOST /predict HTTP/1.1\u001b[0m\" 200 -\n",
      "127.0.0.1 - - [06/Dec/2020 22:08:33] \"\u001b[37mPOST /predict HTTP/1.1\u001b[0m\" 200 -\n",
      "127.0.0.1 - - [06/Dec/2020 22:08:40] \"\u001b[37mPOST /predict HTTP/1.1\u001b[0m\" 200 -\n"
     ]
    }
   ],
   "source": [
    "import numpy\n",
    "from flask import Flask\n",
    "from flask import request\n",
    "from keras.layers import Dense,Dropout,Flatten,MaxPooling2D,Convolution2D,Activation\n",
    "from keras.models import Sequential\n",
    "from tensorflow.python.keras.backend import set_session\n",
    "from keras.models import load_model\n",
    "from keras.wrappers.scikit_learn import KerasClassifier\n",
    "import matplotlib.pyplot as plt\n",
    "import matplotlib.image as mpimg\n",
    "import tensorflow \n",
    "from io import BytesIO\n",
    "\n",
    "app = Flask(__name__)\n",
    "\n",
    "global graph\n",
    "graph = tensorflow.get_default_graph()\n",
    "sess = tensorflow.Session()\n",
    "\n",
    "def larger_model():\n",
    "        model = Sequential()\n",
    "        model.add(Convolution2D(32,(3,3),input_shape=(64,64,3)))\n",
    "        model.add(Activation('relu'))\n",
    "        model.add(MaxPooling2D(pool_size=(2,2)))\n",
    "\n",
    "        model.add(Convolution2D(32,(3,3)))\n",
    "        model.add(Activation('relu'))\n",
    "        model.add(MaxPooling2D(pool_size=(2,2)))\n",
    "\n",
    "        model.add(Convolution2D(64,(3,3)))\n",
    "        model.add(Activation('relu'))\n",
    "        model.add(MaxPooling2D(pool_size=(2,2)))\n",
    "\n",
    "        model.add(Flatten())\n",
    "        model.add(Dense(64))\n",
    "        model.add(Activation('relu'))\n",
    "        model.add(Dropout(0.5))\n",
    "        model.add(Dense(1))\n",
    "        model.add(Activation('sigmoid'))\n",
    "\n",
    "        #Compiling the CNN\n",
    "        model.compile(optimizer = 'rmsprop',loss='binary_crossentropy',metrics=['accuracy'])\n",
    "        return model\n",
    "\n",
    "#load model\n",
    "classifire = larger_model()  \n",
    "set_session(sess)\n",
    "classifire.load_weights('93_model.h5') \n",
    "\n",
    "@app.route(\"/predict\",methods =['POST'])\n",
    "def predictions(): \n",
    "    #preProcess the image\n",
    "    request_image = BytesIO(request.files[\"image\"].read())\n",
    "    image = tensorflow.keras.preprocessing.image.load_img(request_image,target_size=(64,64))\n",
    "    input_arr = tensorflow.keras.preprocessing.image.img_to_array(image)\n",
    "    input_arr = numpy.array([input_arr])  # Convert single image to a batch.\n",
    "    with graph.as_default():\n",
    "                 set_session(sess)                 \n",
    "                 prediction = classifire.predict_proba(input_arr)[0]    \n",
    "                 responseValue= \"3\" \n",
    "    if prediction[0] == 1:\n",
    "                responseValue = \"1\"\n",
    "    elif prediction[0] == 0: \n",
    "                responseValue = \"0\"\n",
    "        \n",
    "    return str(responseValue)\n",
    "\n",
    "if __name__ == '__main__':\n",
    "    app.run(debug=False, port=5001)"
   ]
  },
  {
   "cell_type": "code",
   "execution_count": null,
   "metadata": {},
   "outputs": [],
   "source": []
  }
 ],
 "metadata": {
  "kernelspec": {
   "display_name": "Python 3",
   "language": "python",
   "name": "python3"
  },
  "language_info": {
   "codemirror_mode": {
    "name": "ipython",
    "version": 3
   },
   "file_extension": ".py",
   "mimetype": "text/x-python",
   "name": "python",
   "nbconvert_exporter": "python",
   "pygments_lexer": "ipython3",
   "version": "3.7.1"
  }
 },
 "nbformat": 4,
 "nbformat_minor": 4
}
